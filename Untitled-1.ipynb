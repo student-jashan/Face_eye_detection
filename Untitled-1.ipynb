{
 "cells": [
  {
   "cell_type": "code",
   "execution_count": 2,
   "metadata": {},
   "outputs": [],
   "source": [
    "import numpy as np"
   ]
  },
  {
   "cell_type": "code",
   "execution_count": 2,
   "metadata": {},
   "outputs": [
    {
     "name": "stdout",
     "output_type": "stream",
     "text": [
      "[4 5 6 7]\n"
     ]
    }
   ],
   "source": [
    "arr=np.array([4,5,6,7])\n",
    "print(arr)"
   ]
  },
  {
   "cell_type": "code",
   "execution_count": 8,
   "metadata": {},
   "outputs": [
    {
     "name": "stdout",
     "output_type": "stream",
     "text": [
      "[12 13]\n"
     ]
    }
   ],
   "source": [
    "arr1=np.array([[2,3,4,5],[6,7,8,9],[10,11,12,13]])\n",
    "print(arr1[2,2:4])"
   ]
  },
  {
   "cell_type": "code",
   "execution_count": 11,
   "metadata": {},
   "outputs": [
    {
     "name": "stdout",
     "output_type": "stream",
     "text": [
      "3\n"
     ]
    }
   ],
   "source": [
    "print(arr1[0,1])"
   ]
  },
  {
   "cell_type": "code",
   "execution_count": 13,
   "metadata": {},
   "outputs": [
    {
     "name": "stdout",
     "output_type": "stream",
     "text": [
      "(3, 4)\n"
     ]
    }
   ],
   "source": [
    "print(np.shape(arr1)) #print 3 rows and 4 columns"
   ]
  },
  {
   "cell_type": "code",
   "execution_count": 14,
   "metadata": {},
   "outputs": [
    {
     "name": "stdout",
     "output_type": "stream",
     "text": [
      "12\n"
     ]
    }
   ],
   "source": [
    "print(np.size(arr1)) # Gives the total elements in array"
   ]
  },
  {
   "cell_type": "code",
   "execution_count": 16,
   "metadata": {},
   "outputs": [
    {
     "name": "stdout",
     "output_type": "stream",
     "text": [
      "int64\n"
     ]
    }
   ],
   "source": [
    "print(arr1.dtype) # data type of array elements"
   ]
  },
  {
   "cell_type": "code",
   "execution_count": 17,
   "metadata": {},
   "outputs": [
    {
     "data": {
      "text/plain": [
       "3"
      ]
     },
     "execution_count": 17,
     "metadata": {},
     "output_type": "execute_result"
    }
   ],
   "source": [
    "#IMSPECTING AN ARRAY\n",
    "len(arr1)"
   ]
  },
  {
   "cell_type": "code",
   "execution_count": 33,
   "metadata": {},
   "outputs": [
    {
     "name": "stdout",
     "output_type": "stream",
     "text": [
      "[[ 2  3  4  5]\n",
      " [ 7  8  9 10]]\n",
      "(2, 4)\n",
      "2\n",
      "8\n",
      "<class 'numpy.ndarray'>\n",
      "int64\n",
      "[[ 2.  3.  4.  5.]\n",
      " [ 7.  8.  9. 10.]]\n"
     ]
    }
   ],
   "source": [
    "a=[[2,3,4,5],[7,8,9,10]]\n",
    "val=np.array(a)\n",
    "print(val)\n",
    "print(val.shape) #Rows and columns\n",
    "print(len(val)) #number of nested values\n",
    "print(np.size(val)) #number of elements in array\n",
    "print(type(val)) #datatype of variables\n",
    "print(val.dtype) #datatype of an array\n",
    "#convert the given array into float\n",
    "print(val.astype(float))"
   ]
  },
  {
   "cell_type": "code",
   "execution_count": 37,
   "metadata": {},
   "outputs": [
    {
     "name": "stdout",
     "output_type": "stream",
     "text": [
      "[ 60  80 100 120]\n",
      "[ 60  80 100 120]\n"
     ]
    }
   ],
   "source": [
    "#Mathematical opertaions and functions on arrays\n",
    "arr2=np.array([10,20,30,40])\n",
    "arr3=np.array([50,60,70,80])\n",
    "print(arr2+arr3) #Addition\n",
    "print(np.add(arr2,arr3))"
   ]
  },
  {
   "cell_type": "code",
   "execution_count": 39,
   "metadata": {},
   "outputs": [
    {
     "name": "stdout",
     "output_type": "stream",
     "text": [
      "[-40 -40 -40 -40]\n",
      "[-40 -40 -40 -40]\n"
     ]
    }
   ],
   "source": [
    "arr2=np.array([10,20,30,40])\n",
    "arr3=np.array([50,60,70,80])\n",
    "print(arr2-arr3) #Subtract\n",
    "print(np.subtract(arr2,arr3))"
   ]
  },
  {
   "cell_type": "code",
   "execution_count": 40,
   "metadata": {},
   "outputs": [
    {
     "name": "stdout",
     "output_type": "stream",
     "text": [
      "[ 500 1200 2100 3200]\n",
      "[ 500 1200 2100 3200]\n"
     ]
    }
   ],
   "source": [
    "arr2=np.array([10,20,30,40])\n",
    "arr3=np.array([50,60,70,80])\n",
    "print(arr2*arr3) #Multiply\n",
    "print(np.multiply(arr2,arr3))"
   ]
  },
  {
   "cell_type": "code",
   "execution_count": 41,
   "metadata": {},
   "outputs": [
    {
     "name": "stdout",
     "output_type": "stream",
     "text": [
      "[0.2        0.33333333 0.42857143 0.5       ]\n",
      "[0.2        0.33333333 0.42857143 0.5       ]\n"
     ]
    }
   ],
   "source": [
    "arr2=np.array([10,20,30,40])\n",
    "arr3=np.array([50,60,70,80])\n",
    "print(arr2/arr3) #Divide\n",
    "print(np.divide(arr2,arr3))"
   ]
  },
  {
   "cell_type": "code",
   "execution_count": 8,
   "metadata": {},
   "outputs": [
    {
     "name": "stdout",
     "output_type": "stream",
     "text": [
      "[ 9 16 25 36]\n"
     ]
    }
   ],
   "source": [
    "#different functions\n",
    "import numpy as np\n",
    "arry=np.array([3,4,5,6])\n",
    "arry1=np.array([2])\n",
    "print(np.pow(arry,arry1))"
   ]
  },
  {
   "cell_type": "code",
   "execution_count": 10,
   "metadata": {},
   "outputs": [
    {
     "name": "stdout",
     "output_type": "stream",
     "text": [
      "[3. 4. 5. 6.]\n"
     ]
    }
   ],
   "source": [
    "value=np.array([9,16,25,36])\n",
    "print(np.sqrt(value))\n"
   ]
  },
  {
   "cell_type": "code",
   "execution_count": 24,
   "metadata": {},
   "outputs": [
    {
     "name": "stdout",
     "output_type": "stream",
     "text": [
      "[[30 40 50]\n",
      " [ 5  6  7]\n",
      " [60 70 80]\n",
      " [ 4  5  6]]\n"
     ]
    }
   ],
   "source": [
    "#Combining and splitting the arrays\n",
    "v1=np.array([[30,40,50],[5,6,7]])\n",
    "v2=np.array([[60,70,80],[4,5,6]])\n",
    "print(np.concatenate([v1,v2]))"
   ]
  },
  {
   "cell_type": "code",
   "execution_count": 25,
   "metadata": {},
   "outputs": [
    {
     "name": "stdout",
     "output_type": "stream",
     "text": [
      "[[30 40 50 60 70 80]\n",
      " [ 5  6  7  4  5  6]]\n"
     ]
    }
   ],
   "source": [
    "print(np.concatenate([v1,v2],axis=1))"
   ]
  },
  {
   "cell_type": "code",
   "execution_count": 26,
   "metadata": {},
   "outputs": [
    {
     "name": "stdout",
     "output_type": "stream",
     "text": [
      "[[30 40 50 60 70 80]\n",
      " [ 5  6  7  4  5  6]]\n"
     ]
    }
   ],
   "source": [
    "print(np.hstack([v1,v2]))"
   ]
  },
  {
   "cell_type": "code",
   "execution_count": 27,
   "metadata": {},
   "outputs": [
    {
     "name": "stdout",
     "output_type": "stream",
     "text": [
      "[[30 40 50]\n",
      " [ 5  6  7]\n",
      " [60 70 80]\n",
      " [ 4  5  6]]\n"
     ]
    }
   ],
   "source": [
    "print(np.vstack([v1,v2]))"
   ]
  },
  {
   "cell_type": "code",
   "execution_count": 32,
   "metadata": {},
   "outputs": [
    {
     "name": "stdout",
     "output_type": "stream",
     "text": [
      "[array([2, 3]), array([4, 5]), array([6, 7])]\n"
     ]
    }
   ],
   "source": [
    "#Split\n",
    "a=np.array([2,3,4,5,6,7])\n",
    "b=np.array_split(a,3)\n",
    "print(b)"
   ]
  },
  {
   "cell_type": "code",
   "execution_count": 30,
   "metadata": {},
   "outputs": [
    {
     "name": "stdout",
     "output_type": "stream",
     "text": [
      "[6 7]\n"
     ]
    }
   ],
   "source": [
    "print(b[2])"
   ]
  },
  {
   "cell_type": "code",
   "execution_count": 33,
   "metadata": {},
   "outputs": [
    {
     "name": "stdout",
     "output_type": "stream",
     "text": [
      "[9 8 7 6 4 3]\n"
     ]
    }
   ],
   "source": [
    "#Adding and removing elements in the arrays\n",
    "a=np.array([9,8,7,6])\n",
    "print(np.append(a,[4,3]))"
   ]
  },
  {
   "cell_type": "code",
   "execution_count": 35,
   "metadata": {},
   "outputs": [
    {
     "name": "stdout",
     "output_type": "stream",
     "text": [
      "[9 8 5 7 6]\n"
     ]
    }
   ],
   "source": [
    "print(np.insert(a,2,5))"
   ]
  },
  {
   "cell_type": "code",
   "execution_count": 54,
   "metadata": {},
   "outputs": [
    {
     "name": "stdout",
     "output_type": "stream",
     "text": [
      "[[2 8 3 4 9]\n",
      " [5 8 6 7 9]]\n"
     ]
    }
   ],
   "source": [
    "m=np.array([[2,3,4],[5,6,7]]) #array,index,value\n",
    "print(np.insert(m,[1,3],[8,9],axis=1))"
   ]
  },
  {
   "cell_type": "code",
   "execution_count": 63,
   "metadata": {},
   "outputs": [
    {
     "name": "stdout",
     "output_type": "stream",
     "text": [
      "[[2 3 4]\n",
      " [5 6 7]]\n",
      "[[2 3]\n",
      " [5 6]]\n"
     ]
    }
   ],
   "source": [
    "m=np.array([[2,3,4],[5,6,7]])\n",
    "print(m)\n",
    "print(np.delete(m,2,axis=1))"
   ]
  },
  {
   "cell_type": "code",
   "execution_count": null,
   "metadata": {},
   "outputs": [],
   "source": []
  }
 ],
 "metadata": {
  "kernelspec": {
   "display_name": "Python 3",
   "language": "python",
   "name": "python3"
  },
  "language_info": {
   "codemirror_mode": {
    "name": "ipython",
    "version": 3
   },
   "file_extension": ".py",
   "mimetype": "text/x-python",
   "name": "python",
   "nbconvert_exporter": "python",
   "pygments_lexer": "ipython3",
   "version": "3.12.3"
  }
 },
 "nbformat": 4,
 "nbformat_minor": 2
}
